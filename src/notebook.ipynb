{
 "cells": [
  {
   "cell_type": "markdown",
   "metadata": {},
   "source": [
    "# Install\n"
   ]
  },
  {
   "cell_type": "code",
   "execution_count": 1,
   "metadata": {},
   "outputs": [],
   "source": [
    "%load_ext autoreload\n",
    "%autoreload 2"
   ]
  },
  {
   "cell_type": "code",
   "execution_count": 5,
   "metadata": {},
   "outputs": [
    {
     "data": {
      "text/plain": [
       "True"
      ]
     },
     "execution_count": 5,
     "metadata": {},
     "output_type": "execute_result"
    }
   ],
   "source": [
    "from dotenv import load_dotenv\n",
    "import pandas as pd\n",
    "\n",
    "import process_transactions\n",
    "import requisition\n",
    "import utils\n",
    "\n",
    "load_dotenv(\"../user.env\")"
   ]
  },
  {
   "cell_type": "markdown",
   "metadata": {},
   "source": [
    "# Get user data"
   ]
  },
  {
   "cell_type": "code",
   "execution_count": 7,
   "metadata": {},
   "outputs": [
    {
     "name": "stderr",
     "output_type": "stream",
     "text": [
      "\u001b[32m2024-02-01 20:20:01.921\u001b[0m | \u001b[1mINFO    \u001b[0m | \u001b[36mrequisition\u001b[0m:\u001b[36m_get_requisition_id\u001b[0m:\u001b[36m29\u001b[0m - \u001b[1mfound 1 requisition_ids\u001b[0m\n",
      "\u001b[32m2024-02-01 20:20:01.922\u001b[0m | \u001b[1mINFO    \u001b[0m | \u001b[36mservices.nordigen.account_api\u001b[0m:\u001b[36mget_latest_data\u001b[0m:\u001b[36m226\u001b[0m - \u001b[1mtoday's data exists\u001b[0m\n",
      "/var/folders/rp/f2ppsq3x6s33kb4f3qph_x1h0000gn/T/ipykernel_22008/2196920193.py:1: RuntimeWarning: coroutine 'get_user_data' was never awaited\n",
      "  user_data = await requisition.get_user_data()\n",
      "RuntimeWarning: Enable tracemalloc to get the object allocation traceback\n"
     ]
    }
   ],
   "source": [
    "user_data = await requisition.get_user_data()"
   ]
  },
  {
   "cell_type": "markdown",
   "metadata": {},
   "source": [
    "# Get updated transactions"
   ]
  },
  {
   "cell_type": "code",
   "execution_count": 9,
   "metadata": {},
   "outputs": [
    {
     "name": "stderr",
     "output_type": "stream",
     "text": [
      "\u001b[32m2024-02-01 20:21:13.601\u001b[0m | \u001b[1mINFO    \u001b[0m | \u001b[36mrequisition\u001b[0m:\u001b[36m_get_requisition_id\u001b[0m:\u001b[36m29\u001b[0m - \u001b[1mfound 1 requisition_ids\u001b[0m\n",
      "\u001b[32m2024-02-01 20:21:13.602\u001b[0m | \u001b[1mINFO    \u001b[0m | \u001b[36mservices.nordigen.account_api\u001b[0m:\u001b[36mget_latest_data\u001b[0m:\u001b[36m226\u001b[0m - \u001b[1mtoday's data exists\u001b[0m\n"
     ]
    },
    {
     "name": "stderr",
     "output_type": "stream",
     "text": [
      "\u001b[32m2024-02-01 20:21:13.682\u001b[0m | \u001b[34m\u001b[1mDEBUG   \u001b[0m | \u001b[36mprocess_transactions\u001b[0m:\u001b[36mcombine_transactions\u001b[0m:\u001b[36m117\u001b[0m - \u001b[34m\u001b[1mjoining historic and live transaction tables\u001b[0m\n",
      "\u001b[32m2024-02-01 20:21:13.845\u001b[0m | \u001b[1mINFO    \u001b[0m | \u001b[36mprocess_transactions\u001b[0m:\u001b[36m_enrich_transactions_dataframe\u001b[0m:\u001b[36m33\u001b[0m - \u001b[1mEnriching dataframe\u001b[0m\n",
      "\u001b[32m2024-02-01 20:21:13.850\u001b[0m | \u001b[33m\u001b[1mWARNING \u001b[0m | \u001b[36menrich.counterparty\u001b[0m:\u001b[36mget_counterparty\u001b[0m:\u001b[36m244\u001b[0m - \u001b[33m\u001b[1munknown proprietaryBankTransactionCode: FASTER PAYMENT DEBIT REVERSAL \u001b[0m\n",
      "\u001b[32m2024-02-01 20:21:13.857\u001b[0m | \u001b[1mINFO    \u001b[0m | \u001b[36menrich.categories\u001b[0m:\u001b[36mcategorize_transactions\u001b[0m:\u001b[36m35\u001b[0m - \u001b[1mAdding transactions category\u001b[0m\n"
     ]
    }
   ],
   "source": [
    "await process_transactions.main()\n",
    "user_data.transactions = utils.read_json(process_transactions.SAVE_PATH)"
   ]
  },
  {
   "cell_type": "code",
   "execution_count": 49,
   "metadata": {},
   "outputs": [],
   "source": [
    "account_id = user_data.requisition.accounts[0]"
   ]
  },
  {
   "cell_type": "code",
   "execution_count": 53,
   "metadata": {},
   "outputs": [
    {
     "data": {
      "text/plain": [
       "AccountBalances(account_name='joint account', account_id='590300bd-3daf-4d5e-9274-7a3782261f7e', balances={'interimAvailable': Balance(balance_amount=BalanceAmount(amount='17054.26', currency='GBP'), balance_type='interimAvailable', reference_date='2024-02-01'), 'interimBooked': Balance(balance_amount=BalanceAmount(amount='17054.26', currency='GBP'), balance_type='interimBooked', reference_date='2024-02-01')})"
      ]
     },
     "execution_count": 53,
     "metadata": {},
     "output_type": "execute_result"
    }
   ],
   "source": [
    "user_data.account_balances.balances.get(account_id)"
   ]
  },
  {
   "cell_type": "code",
   "execution_count": 67,
   "metadata": {},
   "outputs": [
    {
     "data": {
      "text/html": [
       "<div>\n",
       "<style scoped>\n",
       "    .dataframe tbody tr th:only-of-type {\n",
       "        vertical-align: middle;\n",
       "    }\n",
       "\n",
       "    .dataframe tbody tr th {\n",
       "        vertical-align: top;\n",
       "    }\n",
       "\n",
       "    .dataframe thead th {\n",
       "        text-align: right;\n",
       "    }\n",
       "</style>\n",
       "<table border=\"1\" class=\"dataframe\">\n",
       "  <thead>\n",
       "    <tr style=\"text-align: right;\">\n",
       "      <th></th>\n",
       "      <th>interimAvailable.balance_amount.amount</th>\n",
       "      <th>interimAvailable.balance_amount.currency</th>\n",
       "      <th>interimAvailable.balance_type</th>\n",
       "      <th>interimAvailable.reference_date</th>\n",
       "      <th>interimBooked.balance_amount.amount</th>\n",
       "      <th>interimBooked.balance_amount.currency</th>\n",
       "      <th>interimBooked.balance_type</th>\n",
       "      <th>interimBooked.reference_date</th>\n",
       "      <th>forwardAvailable.balance_amount.amount</th>\n",
       "      <th>forwardAvailable.balance_amount.currency</th>\n",
       "      <th>forwardAvailable.balance_type</th>\n",
       "      <th>forwardAvailable.reference_date</th>\n",
       "      <th>openingCleared.balance_amount.amount</th>\n",
       "      <th>openingCleared.balance_amount.currency</th>\n",
       "      <th>openingCleared.balance_type</th>\n",
       "      <th>openingCleared.reference_date</th>\n",
       "      <th>previouslyClosedBooked.balance_amount.amount</th>\n",
       "      <th>previouslyClosedBooked.balance_amount.currency</th>\n",
       "      <th>previouslyClosedBooked.balance_type</th>\n",
       "      <th>previouslyClosedBooked.reference_date</th>\n",
       "    </tr>\n",
       "  </thead>\n",
       "  <tbody>\n",
       "    <tr>\n",
       "      <th>0</th>\n",
       "      <td>17054.26</td>\n",
       "      <td>GBP</td>\n",
       "      <td>interimAvailable</td>\n",
       "      <td>2024-02-01</td>\n",
       "      <td>17054.26</td>\n",
       "      <td>GBP</td>\n",
       "      <td>interimBooked</td>\n",
       "      <td>2024-02-01</td>\n",
       "      <td>NaN</td>\n",
       "      <td>NaN</td>\n",
       "      <td>NaN</td>\n",
       "      <td>NaN</td>\n",
       "      <td>NaN</td>\n",
       "      <td>NaN</td>\n",
       "      <td>NaN</td>\n",
       "      <td>NaN</td>\n",
       "      <td>NaN</td>\n",
       "      <td>NaN</td>\n",
       "      <td>NaN</td>\n",
       "      <td>NaN</td>\n",
       "    </tr>\n",
       "    <tr>\n",
       "      <th>0</th>\n",
       "      <td>NaN</td>\n",
       "      <td>NaN</td>\n",
       "      <td>NaN</td>\n",
       "      <td>NaN</td>\n",
       "      <td>NaN</td>\n",
       "      <td>NaN</td>\n",
       "      <td>NaN</td>\n",
       "      <td>NaN</td>\n",
       "      <td>4532.27</td>\n",
       "      <td>GBP</td>\n",
       "      <td>forwardAvailable</td>\n",
       "      <td>2024-02-01</td>\n",
       "      <td>-733.71</td>\n",
       "      <td>GBP</td>\n",
       "      <td>openingCleared</td>\n",
       "      <td>2024-02-01</td>\n",
       "      <td>-92.06</td>\n",
       "      <td>GBP</td>\n",
       "      <td>previouslyClosedBooked</td>\n",
       "      <td>2024-01-23</td>\n",
       "    </tr>\n",
       "    <tr>\n",
       "      <th>0</th>\n",
       "      <td>23.14</td>\n",
       "      <td>GBP</td>\n",
       "      <td>interimAvailable</td>\n",
       "      <td>2024-02-01</td>\n",
       "      <td>23.14</td>\n",
       "      <td>GBP</td>\n",
       "      <td>interimBooked</td>\n",
       "      <td>2024-02-01</td>\n",
       "      <td>NaN</td>\n",
       "      <td>NaN</td>\n",
       "      <td>NaN</td>\n",
       "      <td>NaN</td>\n",
       "      <td>NaN</td>\n",
       "      <td>NaN</td>\n",
       "      <td>NaN</td>\n",
       "      <td>NaN</td>\n",
       "      <td>NaN</td>\n",
       "      <td>NaN</td>\n",
       "      <td>NaN</td>\n",
       "      <td>NaN</td>\n",
       "    </tr>\n",
       "  </tbody>\n",
       "</table>\n",
       "</div>"
      ],
      "text/plain": [
       "  interimAvailable.balance_amount.amount  \\\n",
       "0                               17054.26   \n",
       "0                                    NaN   \n",
       "0                                  23.14   \n",
       "\n",
       "  interimAvailable.balance_amount.currency interimAvailable.balance_type  \\\n",
       "0                                      GBP              interimAvailable   \n",
       "0                                      NaN                           NaN   \n",
       "0                                      GBP              interimAvailable   \n",
       "\n",
       "  interimAvailable.reference_date interimBooked.balance_amount.amount  \\\n",
       "0                      2024-02-01                            17054.26   \n",
       "0                             NaN                                 NaN   \n",
       "0                      2024-02-01                               23.14   \n",
       "\n",
       "  interimBooked.balance_amount.currency interimBooked.balance_type  \\\n",
       "0                                   GBP              interimBooked   \n",
       "0                                   NaN                        NaN   \n",
       "0                                   GBP              interimBooked   \n",
       "\n",
       "  interimBooked.reference_date forwardAvailable.balance_amount.amount  \\\n",
       "0                   2024-02-01                                    NaN   \n",
       "0                          NaN                                4532.27   \n",
       "0                   2024-02-01                                    NaN   \n",
       "\n",
       "  forwardAvailable.balance_amount.currency forwardAvailable.balance_type  \\\n",
       "0                                      NaN                           NaN   \n",
       "0                                      GBP              forwardAvailable   \n",
       "0                                      NaN                           NaN   \n",
       "\n",
       "  forwardAvailable.reference_date openingCleared.balance_amount.amount  \\\n",
       "0                             NaN                                  NaN   \n",
       "0                      2024-02-01                              -733.71   \n",
       "0                             NaN                                  NaN   \n",
       "\n",
       "  openingCleared.balance_amount.currency openingCleared.balance_type  \\\n",
       "0                                    NaN                         NaN   \n",
       "0                                    GBP              openingCleared   \n",
       "0                                    NaN                         NaN   \n",
       "\n",
       "  openingCleared.reference_date previouslyClosedBooked.balance_amount.amount  \\\n",
       "0                           NaN                                          NaN   \n",
       "0                    2024-02-01                                       -92.06   \n",
       "0                           NaN                                          NaN   \n",
       "\n",
       "  previouslyClosedBooked.balance_amount.currency  \\\n",
       "0                                            NaN   \n",
       "0                                            GBP   \n",
       "0                                            NaN   \n",
       "\n",
       "  previouslyClosedBooked.balance_type previouslyClosedBooked.reference_date  \n",
       "0                                 NaN                                   NaN  \n",
       "0              previouslyClosedBooked                            2024-01-23  \n",
       "0                                 NaN                                   NaN  "
      ]
     },
     "execution_count": 67,
     "metadata": {},
     "output_type": "execute_result"
    }
   ],
   "source": [
    "df = pd.concat([pd.json_normalize(user_data.account_balances.get_balances_by_account_id(account_id).model_dump().get(\"balances\")) for account_id in  user_data.requisition.accounts])\n",
    "df"
   ]
  },
  {
   "cell_type": "code",
   "execution_count": 62,
   "metadata": {},
   "outputs": [
    {
     "data": {
      "text/html": [
       "<div>\n",
       "<style scoped>\n",
       "    .dataframe tbody tr th:only-of-type {\n",
       "        vertical-align: middle;\n",
       "    }\n",
       "\n",
       "    .dataframe tbody tr th {\n",
       "        vertical-align: top;\n",
       "    }\n",
       "\n",
       "    .dataframe thead th {\n",
       "        text-align: right;\n",
       "    }\n",
       "</style>\n",
       "<table border=\"1\" class=\"dataframe\">\n",
       "  <thead>\n",
       "    <tr style=\"text-align: right;\">\n",
       "      <th></th>\n",
       "      <th>interimAvailable.balance_amount.amount</th>\n",
       "      <th>interimAvailable.balance_amount.currency</th>\n",
       "      <th>interimAvailable.balance_type</th>\n",
       "      <th>interimAvailable.reference_date</th>\n",
       "      <th>interimBooked.balance_amount.amount</th>\n",
       "      <th>interimBooked.balance_amount.currency</th>\n",
       "      <th>interimBooked.balance_type</th>\n",
       "      <th>interimBooked.reference_date</th>\n",
       "    </tr>\n",
       "  </thead>\n",
       "  <tbody>\n",
       "    <tr>\n",
       "      <th>0</th>\n",
       "      <td>17054.26</td>\n",
       "      <td>GBP</td>\n",
       "      <td>interimAvailable</td>\n",
       "      <td>2024-02-01</td>\n",
       "      <td>17054.26</td>\n",
       "      <td>GBP</td>\n",
       "      <td>interimBooked</td>\n",
       "      <td>2024-02-01</td>\n",
       "    </tr>\n",
       "  </tbody>\n",
       "</table>\n",
       "</div>"
      ],
      "text/plain": [
       "  interimAvailable.balance_amount.amount  \\\n",
       "0                               17054.26   \n",
       "\n",
       "  interimAvailable.balance_amount.currency interimAvailable.balance_type  \\\n",
       "0                                      GBP              interimAvailable   \n",
       "\n",
       "  interimAvailable.reference_date interimBooked.balance_amount.amount  \\\n",
       "0                      2024-02-01                            17054.26   \n",
       "\n",
       "  interimBooked.balance_amount.currency interimBooked.balance_type  \\\n",
       "0                                   GBP              interimBooked   \n",
       "\n",
       "  interimBooked.reference_date  \n",
       "0                   2024-02-01  "
      ]
     },
     "execution_count": 62,
     "metadata": {},
     "output_type": "execute_result"
    }
   ],
   "source": [
    "df"
   ]
  },
  {
   "cell_type": "markdown",
   "metadata": {},
   "source": [
    "# Query\n"
   ]
  },
  {
   "cell_type": "code",
   "execution_count": null,
   "metadata": {},
   "outputs": [],
   "source": [
    "import pandas as pd"
   ]
  },
  {
   "cell_type": "code",
   "execution_count": null,
   "metadata": {},
   "outputs": [],
   "source": [
    "records = user_data.query_transactions_by_transaction_code(\n",
    "    \"FASTER PAYMENT DEBIT REVERSAL\"\n",
    ")"
   ]
  },
  {
   "cell_type": "code",
   "execution_count": null,
   "metadata": {},
   "outputs": [],
   "source": []
  },
  {
   "cell_type": "code",
   "execution_count": null,
   "metadata": {},
   "outputs": [],
   "source": []
  }
 ],
 "metadata": {
  "kernelspec": {
   "display_name": "py310",
   "language": "python",
   "name": "python3"
  },
  "language_info": {
   "codemirror_mode": {
    "name": "ipython",
    "version": 3
   },
   "file_extension": ".py",
   "mimetype": "text/x-python",
   "name": "python",
   "nbconvert_exporter": "python",
   "pygments_lexer": "ipython3",
   "version": "3.11.7"
  }
 },
 "nbformat": 4,
 "nbformat_minor": 2
}
