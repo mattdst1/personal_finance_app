{
 "cells": [
  {
   "cell_type": "code",
   "execution_count": 5,
   "metadata": {},
   "outputs": [],
   "source": [
    "%load_ext autoreload\n",
    "%autoreload 2"
   ]
  },
  {
   "cell_type": "code",
   "execution_count": 1,
   "metadata": {},
   "outputs": [],
   "source": [
    "import sys\n",
    "import os\n",
    "\n",
    "import pandas as pd\n",
    "\n",
    "import banking"
   ]
  },
  {
   "cell_type": "code",
   "execution_count": 2,
   "metadata": {},
   "outputs": [],
   "source": []
  },
  {
   "cell_type": "code",
   "execution_count": 20,
   "metadata": {},
   "outputs": [
    {
     "name": "stdout",
     "output_type": "stream",
     "text": [
      "Transaction(booking_date='2023-04-21', booking_date_time='2023-04-21T05:05:50Z', remittance_information_unstructured='RECURRENT TRANSACTION AT APPLE.COM/BIL IRL OF 6.99 GBP ON 2023-04-21', proprietary_bank_transaction_code='RECURRENT TRANSACTION', transaction_amount=-6.99, transaction_currency='GBP', status='pending', transaction_id='', internal_transaction_id='', account_id='590300bd-3daf-4d5e-9274-7a3782261f7e', account_type='CACC', account_name='joint account', creditor_name='', merchant_category_code='', instructed_amount=None, instructed_currency='', source_currency='', exchange_rate=None, unit_currency='', target_currency='', quotation_date='', value_date='', value_date_time='')\n",
      "<banking.domain.model.Account object at 0x135773190>\n"
     ]
    }
   ],
   "source": [
    "import banking.domain.model as model"
   ]
  },
  {
   "cell_type": "code",
   "execution_count": 25,
   "metadata": {},
   "outputs": [],
   "source": [
    "account = model.account_instance\n",
    "account.add_transaction(model.transaction_instance)"
   ]
  },
  {
   "cell_type": "code",
   "execution_count": 26,
   "metadata": {},
   "outputs": [
    {
     "data": {
      "text/plain": [
       "[]"
      ]
     },
     "execution_count": 26,
     "metadata": {},
     "output_type": "execute_result"
    }
   ],
   "source": [
    "# instantiate an account\n",
    "account.booked_transactions"
   ]
  },
  {
   "cell_type": "code",
   "execution_count": 27,
   "metadata": {},
   "outputs": [
    {
     "data": {
      "text/plain": [
       "[Transaction(booking_date='2023-04-21', booking_date_time='2023-04-21T05:05:50Z', remittance_information_unstructured='RECURRENT TRANSACTION AT APPLE.COM/BIL IRL OF 6.99 GBP ON 2023-04-21', proprietary_bank_transaction_code='RECURRENT TRANSACTION', transaction_amount=-6.99, transaction_currency='GBP', status='pending', transaction_id='', internal_transaction_id='', account_id='590300bd-3daf-4d5e-9274-7a3782261f7e', account_type='CACC', account_name='joint account', creditor_name='', merchant_category_code='', instructed_amount=None, instructed_currency='', source_currency='', exchange_rate=None, unit_currency='', target_currency='', quotation_date='', value_date='', value_date_time='')]"
      ]
     },
     "execution_count": 27,
     "metadata": {},
     "output_type": "execute_result"
    }
   ],
   "source": [
    "account.pending_transactions"
   ]
  }
 ],
 "metadata": {
  "kernelspec": {
   "display_name": "py310",
   "language": "python",
   "name": "python3"
  },
  "language_info": {
   "codemirror_mode": {
    "name": "ipython",
    "version": 3
   },
   "file_extension": ".py",
   "mimetype": "text/x-python",
   "name": "python",
   "nbconvert_exporter": "python",
   "pygments_lexer": "ipython3",
   "version": "3.10.10"
  }
 },
 "nbformat": 4,
 "nbformat_minor": 2
}
