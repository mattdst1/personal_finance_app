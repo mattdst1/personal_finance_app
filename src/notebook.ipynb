{
 "cells": [
  {
   "cell_type": "markdown",
   "metadata": {},
   "source": [
    "# Install\n"
   ]
  },
  {
   "cell_type": "code",
   "execution_count": 1,
   "metadata": {},
   "outputs": [],
   "source": [
    "%load_ext autoreload\n",
    "%autoreload 2"
   ]
  },
  {
   "cell_type": "code",
   "execution_count": 2,
   "metadata": {},
   "outputs": [
    {
     "name": "stderr",
     "output_type": "stream",
     "text": [
      "/var/folders/rp/f2ppsq3x6s33kb4f3qph_x1h0000gn/T/ipykernel_53046/110315734.py:2: DeprecationWarning: \n",
      "Pyarrow will become a required dependency of pandas in the next major release of pandas (pandas 3.0),\n",
      "(to allow more performant data types, such as the Arrow string type, and better interoperability with other libraries)\n",
      "but was not found to be installed on your system.\n",
      "If this would cause problems for you,\n",
      "please provide us feedback at https://github.com/pandas-dev/pandas/issues/54466\n",
      "        \n",
      "  import pandas as pd\n"
     ]
    },
    {
     "data": {
      "text/plain": [
       "True"
      ]
     },
     "execution_count": 2,
     "metadata": {},
     "output_type": "execute_result"
    }
   ],
   "source": [
    "from dotenv import load_dotenv\n",
    "import pandas as pd\n",
    "\n",
    "import process_transactions\n",
    "import requisition\n",
    "import utils\n",
    "\n",
    "load_dotenv(\"../user.env\")"
   ]
  },
  {
   "cell_type": "markdown",
   "metadata": {},
   "source": [
    "# Get user data\n"
   ]
  },
  {
   "cell_type": "code",
   "execution_count": 3,
   "metadata": {},
   "outputs": [
    {
     "name": "stderr",
     "output_type": "stream",
     "text": [
      "\u001b[32m2024-02-17 12:35:15.854\u001b[0m | \u001b[1mINFO    \u001b[0m | \u001b[36mrequisition\u001b[0m:\u001b[36m_get_requisition_id\u001b[0m:\u001b[36m29\u001b[0m - \u001b[1mfound 1 requisition_ids\u001b[0m\n",
      "\u001b[32m2024-02-17 12:35:15.856\u001b[0m | \u001b[34m\u001b[1mDEBUG   \u001b[0m | \u001b[36mservices.nordigen.account_api\u001b[0m:\u001b[36mload_requisition\u001b[0m:\u001b[36m214\u001b[0m - \u001b[34m\u001b[1mrequisition already fetched\u001b[0m\n",
      "\u001b[32m2024-02-17 12:35:15.858\u001b[0m | \u001b[34m\u001b[1mDEBUG   \u001b[0m | \u001b[36mservices.nordigen.account_api\u001b[0m:\u001b[36mload_latest_account_data\u001b[0m:\u001b[36m197\u001b[0m - \u001b[34m\u001b[1mfetching account data\u001b[0m\n"
     ]
    },
    {
     "name": "stderr",
     "output_type": "stream",
     "text": [
      "\u001b[32m2024-02-17 12:35:16.763\u001b[0m | \u001b[34m\u001b[1mDEBUG   \u001b[0m | \u001b[36mservices.nordigen.account_api\u001b[0m:\u001b[36m__init__\u001b[0m:\u001b[36m17\u001b[0m - \u001b[34m\u001b[1mInitialising API\u001b[0m\n",
      "\u001b[32m2024-02-17 12:35:16.764\u001b[0m | \u001b[34m\u001b[1mDEBUG   \u001b[0m | \u001b[36mservices.nordigen.account_api\u001b[0m:\u001b[36m__init__\u001b[0m:\u001b[36m17\u001b[0m - \u001b[34m\u001b[1mInitialising API\u001b[0m\n",
      "\u001b[32m2024-02-17 12:35:16.765\u001b[0m | \u001b[34m\u001b[1mDEBUG   \u001b[0m | \u001b[36mservices.nordigen.account_api\u001b[0m:\u001b[36m__init__\u001b[0m:\u001b[36m17\u001b[0m - \u001b[34m\u001b[1mInitialising API\u001b[0m\n",
      "\u001b[32m2024-02-17 12:35:16.766\u001b[0m | \u001b[34m\u001b[1mDEBUG   \u001b[0m | \u001b[36mservices.nordigen.account_api\u001b[0m:\u001b[36mget_transactions\u001b[0m:\u001b[36m22\u001b[0m - \u001b[34m\u001b[1mGetting transactions for 590300bd-3daf-4d5e-9274-7a3782261f7e\u001b[0m\n",
      "\u001b[32m2024-02-17 12:35:16.787\u001b[0m | \u001b[34m\u001b[1mDEBUG   \u001b[0m | \u001b[36mservices.nordigen.account_api\u001b[0m:\u001b[36mget_balances\u001b[0m:\u001b[36m30\u001b[0m - \u001b[34m\u001b[1mGetting balances for 590300bd-3daf-4d5e-9274-7a3782261f7e\u001b[0m\n",
      "\u001b[32m2024-02-17 12:35:16.788\u001b[0m | \u001b[34m\u001b[1mDEBUG   \u001b[0m | \u001b[36mservices.nordigen.account_api\u001b[0m:\u001b[36mget_transactions\u001b[0m:\u001b[36m22\u001b[0m - \u001b[34m\u001b[1mGetting transactions for d2ff77d0-6c80-4580-95a5-e3e87a098db9\u001b[0m\n",
      "\u001b[32m2024-02-17 12:35:16.788\u001b[0m | \u001b[34m\u001b[1mDEBUG   \u001b[0m | \u001b[36mservices.nordigen.account_api\u001b[0m:\u001b[36mget_balances\u001b[0m:\u001b[36m30\u001b[0m - \u001b[34m\u001b[1mGetting balances for d2ff77d0-6c80-4580-95a5-e3e87a098db9\u001b[0m\n",
      "\u001b[32m2024-02-17 12:35:16.789\u001b[0m | \u001b[34m\u001b[1mDEBUG   \u001b[0m | \u001b[36mservices.nordigen.account_api\u001b[0m:\u001b[36mget_transactions\u001b[0m:\u001b[36m22\u001b[0m - \u001b[34m\u001b[1mGetting transactions for e9e5f8b9-da61-49ce-bdae-56546ce4a1c9\u001b[0m\n",
      "\u001b[32m2024-02-17 12:35:16.790\u001b[0m | \u001b[34m\u001b[1mDEBUG   \u001b[0m | \u001b[36mservices.nordigen.account_api\u001b[0m:\u001b[36mget_balances\u001b[0m:\u001b[36m30\u001b[0m - \u001b[34m\u001b[1mGetting balances for e9e5f8b9-da61-49ce-bdae-56546ce4a1c9\u001b[0m\n",
      "\u001b[32m2024-02-17 12:35:20.143\u001b[0m | \u001b[34m\u001b[1mDEBUG   \u001b[0m | \u001b[36mservices.nordigen.account_api\u001b[0m:\u001b[36mapi_call\u001b[0m:\u001b[36m50\u001b[0m - \u001b[34m\u001b[1mcompleted acc d2ff77d0-6c80-4580-95a5-e3e87a098db9, https://bankaccountdata.gocardless.com/api/v2/accounts/d2ff77d0-6c80-4580-95a5-e3e87a098db9/balances/\u001b[0m\n",
      "\u001b[32m2024-02-17 12:35:21.300\u001b[0m | \u001b[34m\u001b[1mDEBUG   \u001b[0m | \u001b[36mservices.nordigen.account_api\u001b[0m:\u001b[36mapi_call\u001b[0m:\u001b[36m50\u001b[0m - \u001b[34m\u001b[1mcompleted acc 590300bd-3daf-4d5e-9274-7a3782261f7e, https://bankaccountdata.gocardless.com/api/v2/accounts/590300bd-3daf-4d5e-9274-7a3782261f7e/balances/\u001b[0m\n",
      "\u001b[32m2024-02-17 12:35:21.435\u001b[0m | \u001b[34m\u001b[1mDEBUG   \u001b[0m | \u001b[36mservices.nordigen.account_api\u001b[0m:\u001b[36mapi_call\u001b[0m:\u001b[36m50\u001b[0m - \u001b[34m\u001b[1mcompleted acc e9e5f8b9-da61-49ce-bdae-56546ce4a1c9, https://bankaccountdata.gocardless.com/api/v2/accounts/e9e5f8b9-da61-49ce-bdae-56546ce4a1c9/balances/\u001b[0m\n",
      "\u001b[32m2024-02-17 12:35:22.257\u001b[0m | \u001b[34m\u001b[1mDEBUG   \u001b[0m | \u001b[36mservices.nordigen.account_api\u001b[0m:\u001b[36mapi_call\u001b[0m:\u001b[36m50\u001b[0m - \u001b[34m\u001b[1mcompleted acc 590300bd-3daf-4d5e-9274-7a3782261f7e, https://bankaccountdata.gocardless.com/api/v2/accounts/590300bd-3daf-4d5e-9274-7a3782261f7e/transactions\u001b[0m\n",
      "\u001b[32m2024-02-17 12:35:22.457\u001b[0m | \u001b[34m\u001b[1mDEBUG   \u001b[0m | \u001b[36mservices.nordigen.account_api\u001b[0m:\u001b[36mapi_call\u001b[0m:\u001b[36m50\u001b[0m - \u001b[34m\u001b[1mcompleted acc d2ff77d0-6c80-4580-95a5-e3e87a098db9, https://bankaccountdata.gocardless.com/api/v2/accounts/d2ff77d0-6c80-4580-95a5-e3e87a098db9/transactions\u001b[0m\n",
      "\u001b[32m2024-02-17 12:35:22.750\u001b[0m | \u001b[34m\u001b[1mDEBUG   \u001b[0m | \u001b[36mservices.nordigen.account_api\u001b[0m:\u001b[36mapi_call\u001b[0m:\u001b[36m50\u001b[0m - \u001b[34m\u001b[1mcompleted acc e9e5f8b9-da61-49ce-bdae-56546ce4a1c9, https://bankaccountdata.gocardless.com/api/v2/accounts/e9e5f8b9-da61-49ce-bdae-56546ce4a1c9/transactions\u001b[0m\n"
     ]
    }
   ],
   "source": [
    "user_data = await requisition.get_user_data()"
   ]
  },
  {
   "cell_type": "markdown",
   "metadata": {},
   "source": [
    "# Get updated transactions\n"
   ]
  },
  {
   "cell_type": "code",
   "execution_count": 4,
   "metadata": {},
   "outputs": [
    {
     "name": "stderr",
     "output_type": "stream",
     "text": [
      "\u001b[32m2024-02-17 12:35:22.873\u001b[0m | \u001b[1mINFO    \u001b[0m | \u001b[36mrequisition\u001b[0m:\u001b[36m_get_requisition_id\u001b[0m:\u001b[36m29\u001b[0m - \u001b[1mfound 1 requisition_ids\u001b[0m\n",
      "\u001b[32m2024-02-17 12:35:22.874\u001b[0m | \u001b[1mINFO    \u001b[0m | \u001b[36mservices.nordigen.account_api\u001b[0m:\u001b[36mget_latest_data\u001b[0m:\u001b[36m226\u001b[0m - \u001b[1mtoday's data exists\u001b[0m\n"
     ]
    },
    {
     "name": "stderr",
     "output_type": "stream",
     "text": [
      "\u001b[32m2024-02-17 12:35:22.958\u001b[0m | \u001b[34m\u001b[1mDEBUG   \u001b[0m | \u001b[36mprocess_transactions\u001b[0m:\u001b[36mcombine_transactions\u001b[0m:\u001b[36m117\u001b[0m - \u001b[34m\u001b[1mjoining historic and live transaction tables\u001b[0m\n",
      "\u001b[32m2024-02-17 12:35:23.151\u001b[0m | \u001b[1mINFO    \u001b[0m | \u001b[36mprocess_transactions\u001b[0m:\u001b[36m_enrich_transactions_dataframe\u001b[0m:\u001b[36m33\u001b[0m - \u001b[1mEnriching dataframe\u001b[0m\n",
      "\u001b[32m2024-02-17 12:35:23.156\u001b[0m | \u001b[33m\u001b[1mWARNING \u001b[0m | \u001b[36menrich.counterparty\u001b[0m:\u001b[36mget_counterparty\u001b[0m:\u001b[36m244\u001b[0m - \u001b[33m\u001b[1munknown proprietaryBankTransactionCode: FASTER PAYMENT DEBIT REVERSAL \u001b[0m\n",
      "\u001b[32m2024-02-17 12:35:23.164\u001b[0m | \u001b[1mINFO    \u001b[0m | \u001b[36menrich.categories\u001b[0m:\u001b[36mcategorize_transactions\u001b[0m:\u001b[36m35\u001b[0m - \u001b[1mAdding transactions category\u001b[0m\n"
     ]
    }
   ],
   "source": [
    "await process_transactions.main()\n",
    "user_data.transactions = utils.read_json(process_transactions.SAVE_PATH)"
   ]
  },
  {
   "cell_type": "markdown",
   "metadata": {},
   "source": [
    "# Query\n"
   ]
  },
  {
   "cell_type": "code",
   "execution_count": 13,
   "metadata": {},
   "outputs": [],
   "source": [
    "report_columns = [\n",
    "    \"booking_date\",\n",
    "    \"remittance_information_unstructured\",\n",
    "    \"proprietary_bank_transaction_code\",\n",
    "    \"transaction_amount.amount\",\n",
    "    \"status\",\n",
    "    \"counterparty\",\n",
    "    \"account_name\",\n",
    "    \"account_type\",\n",
    "    \"merchant_category_code\",\n",
    "    \"merchant_category\",\n",
    "    \"booking_year\",\n",
    "    \"booking_month\",\n",
    "    \"flow\",\n",
    "    \"category\",\n",
    "]"
   ]
  },
  {
   "cell_type": "code",
   "execution_count": 22,
   "metadata": {},
   "outputs": [],
   "source": [
    "class DataViewController:\n",
    "    def __init__(self):\n",
    "        \"\"\"\n",
    "        Initialize the DataViewController with transactions_df and accounts_df.\n",
    "        \"\"\"\n",
    "\n",
    "    @staticmethod\n",
    "    def pending(transactions_df: pd.DataFrame, account_name: str) -> float:\n",
    "        \"\"\"\n",
    "        Calculate the pending amount for a given account name in the transactions DataFrame.\n",
    "\n",
    "        :param transactions_df: A DataFrame containing transactions data.\n",
    "        :param account_name: The name of the account for which the pending amount is to be calculated.\n",
    "        :return: The pending amount for the given account name.\n",
    "        \"\"\"\n",
    "        df = copy.deepcopy(transactions_df)\n",
    "        df = df.loc[\n",
    "            (transactions_df[\"account_name\"] == account_name)\n",
    "            & (df[\"status\"] == \"pending\")\n",
    "        ]\n",
    "        return round(df[\"transactionAmount.amount\"].sum(), 2)\n",
    "\n",
    "    def account_balances(self, accounts_df: pd.DataFrame) -> dict:\n",
    "        \"\"\"\n",
    "        Get the account balances DataFrame with columns: institution_name, account_name, Available, Pending, and Booked.\n",
    "\n",
    "        :return: A DataFrame containing account balances.\n",
    "        \"\"\"\n",
    "\n",
    "        col_mapping = {\n",
    "            \"balanceAmount.interimAvailable\": \"Available\",\n",
    "            \"balanceAmount.interimBooked\": \"Booked\",\n",
    "        }\n",
    "        cols = [\"account_name\", \"Available\", \"Pending\", \"Booked\"]\n",
    "\n",
    "        df = copy.deepcopy(accounts_df)\n",
    "        df = df.rename(columns=col_mapping)\n",
    "        df[\"Pending\"] = df[\"Available\"] - df[\"Booked\"]\n",
    "        df = df.loc[df[\"account_type\"] == \"CACC\"].dropna(axis=1)[cols]\n",
    "        return df.to_dict(orient=\"records\")\n",
    "\n",
    "    def credit_card_balances(\n",
    "        self,\n",
    "        transactions_df: pd.DataFrame,\n",
    "        accounts_df: pd.DataFrame,\n",
    "    ) -> dict:\n",
    "        \"\"\"\n",
    "        Get the credit card balances DataFrame with columns: institution_name, account_name, Balance, Pending, and Available.\n",
    "\n",
    "        :return: A DataFrame containing credit card balances.\n",
    "        \"\"\"\n",
    "        col_mapping = {\n",
    "            \"balanceAmount.forwardAvailable\": \"Available\",\n",
    "            \"balanceAmount.openingCleared\": \"Balance\",\n",
    "        }\n",
    "        cols = [\"account_name\", \"Balance\", \"Pending\", \"Available\"]\n",
    "        df = copy.deepcopy(accounts_df)\n",
    "\n",
    "        pending = []\n",
    "        for account_name in accounts_df[\"account_name\"]:\n",
    "            pending.append(self.pending(transactions_df, account_name))\n",
    "        df[\"Pending\"] = pending\n",
    "        df = df.rename(columns=col_mapping)\n",
    "        df = df.loc[df[\"account_type\"] == \"CARD\"].dropna(axis=1)[cols]\n",
    "        return df.to_dict(orient=\"records\")\n",
    "\n",
    "\n",
    "dvc = DataViewController()"
   ]
  },
  {
   "cell_type": "code",
   "execution_count": 20,
   "metadata": {},
   "outputs": [],
   "source": [
    "transactions = pd.DataFrame(user_data.transactions).dropna(axis=1).drop_duplicates()"
   ]
  },
  {
   "cell_type": "code",
   "execution_count": null,
   "metadata": {},
   "outputs": [],
   "source": []
  }
 ],
 "metadata": {
  "kernelspec": {
   "display_name": "py310",
   "language": "python",
   "name": "python3"
  },
  "language_info": {
   "codemirror_mode": {
    "name": "ipython",
    "version": 3
   },
   "file_extension": ".py",
   "mimetype": "text/x-python",
   "name": "python",
   "nbconvert_exporter": "python",
   "pygments_lexer": "ipython3",
   "version": "3.11.7"
  }
 },
 "nbformat": 4,
 "nbformat_minor": 2
}
