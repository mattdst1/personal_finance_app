{
 "cells": [
  {
   "cell_type": "markdown",
   "metadata": {},
   "source": [
    "# Install\n"
   ]
  },
  {
   "cell_type": "code",
   "execution_count": 1,
   "metadata": {},
   "outputs": [],
   "source": [
    "%load_ext autoreload\n",
    "%autoreload 2"
   ]
  },
  {
   "cell_type": "code",
   "execution_count": 2,
   "metadata": {},
   "outputs": [
    {
     "data": {
      "text/plain": [
       "True"
      ]
     },
     "execution_count": 2,
     "metadata": {},
     "output_type": "execute_result"
    }
   ],
   "source": [
    "from dotenv import load_dotenv\n",
    "\n",
    "import data_import\n",
    "from enrich import process_transactions\n",
    "\n",
    "import model\n",
    "\n",
    "load_dotenv(\"../user.env\")"
   ]
  },
  {
   "cell_type": "markdown",
   "metadata": {},
   "source": [
    "# Fetch\n"
   ]
  },
  {
   "cell_type": "code",
   "execution_count": 50,
   "metadata": {},
   "outputs": [],
   "source": [
    "import ast\n",
    "import os\n",
    "from loguru import logger\n",
    "\n",
    "from pathlib import Path\n",
    "\n",
    "from services.nordigen import config, account_api\n",
    "import utils"
   ]
  },
  {
   "cell_type": "code",
   "execution_count": 67,
   "metadata": {},
   "outputs": [
    {
     "name": "stderr",
     "output_type": "stream",
     "text": [
      "\u001b[32m2024-01-18 12:54:27.354\u001b[0m | \u001b[1mINFO    \u001b[0m | \u001b[36m__main__\u001b[0m:\u001b[36mget_requisition_id\u001b[0m:\u001b[36m3\u001b[0m - \u001b[1mfound 1 requisition_ids\u001b[0m\n",
      "\u001b[32m2024-01-18 12:54:27.355\u001b[0m | \u001b[1mINFO    \u001b[0m | \u001b[36mservices.nordigen.account_api\u001b[0m:\u001b[36mget_latest_data\u001b[0m:\u001b[36m226\u001b[0m - \u001b[1mtoday's data exists\u001b[0m\n"
     ]
    }
   ],
   "source": [
    "def get_requisition_id():\n",
    "    requisition_ids = ast.literal_eval(os.environ.get(\"requisition_ids\"))\n",
    "    logger.info(f\"found {len(requisition_ids)} requisition_ids\")\n",
    "    \n",
    "    if not requisition_ids:\n",
    "        raise ValueError(\"no requisition ids found\")\n",
    "    \n",
    "    if not isinstance(requisition_ids, list):\n",
    "        raise TypeError(\"invalid type found\")\n",
    "\n",
    "    if len(requisition_ids)>1:\n",
    "        logger.warning(\"More than 1 requisition id found\")\n",
    "        raise NotImplementedError(\"unhandled >1 requisition\")\n",
    "\n",
    "    requisition_id = requisition_ids[0]\n",
    "    return requisition_id\n",
    "# get first requisition id\n",
    "\n",
    "\n",
    "output_filepath = await account_api.get_latest_data(requisition_id=get_requisition_id())"
   ]
  },
  {
   "cell_type": "code",
   "execution_count": 68,
   "metadata": {},
   "outputs": [
    {
     "data": {
      "text/plain": [
       "PosixPath('../data/fetched/2024-01-18_data.json')"
      ]
     },
     "execution_count": 68,
     "metadata": {},
     "output_type": "execute_result"
    }
   ],
   "source": [
    "output_filepath"
   ]
  },
  {
   "cell_type": "code",
   "execution_count": 70,
   "metadata": {},
   "outputs": [],
   "source": [
    "latest_data = data_import.load_user_data(filepath = output_filepath)"
   ]
  },
  {
   "cell_type": "markdown",
   "metadata": {},
   "source": [
    "# Tidy up output\n"
   ]
  },
  {
   "cell_type": "code",
   "execution_count": null,
   "metadata": {},
   "outputs": [],
   "source": [
    "def get_account_details(account_ids) -> dict[str, dict]:\n",
    "    account_details = {}\n",
    "    for account_id in account_ids:\n",
    "        account = client.account_api(id=account_id)\n",
    "        # parent\n",
    "        details = account.get_details()\n",
    "        account_details[account_id] = details\n",
    "    return account_details\n",
    "\n",
    "\n",
    "# def get_account_transactions(account_ids) -> dict[str, dict]:\n",
    "#     transactions = {}\n",
    "#     for account_id in account_ids:\n",
    "#         account = client.account_api(id=account_id)\n",
    "#         # parent\n",
    "#         data = account.get_transactions()\n",
    "#         transactions[account_id] = data\n",
    "#     return transactions\n",
    "\n",
    "# def get_account_balances(account_ids):\n",
    "#     balances = {}\n",
    "#     for account_id in account_ids:\n",
    "#         account = client.account_api(id=account_id)\n",
    "#         # parent\n",
    "#         data = account.get_balances()\n",
    "#         balances[account_id] = data\n",
    "#     return balances\n",
    "\n",
    "\n",
    "def get_account_metadata(account_ids):\n",
    "    metadata = {}\n",
    "    for account_id in account_ids:\n",
    "        account = client.account_api(id=account_id)\n",
    "        # parent\n",
    "        data = account.get_metadata()\n",
    "        # missing metadata key in api\n",
    "        metadata[account_id] = {\"metadata\": data}\n",
    "    return metadata"
   ]
  },
  {
   "cell_type": "code",
   "execution_count": null,
   "metadata": {},
   "outputs": [],
   "source": [
    "# dynamic\n",
    "account_transactions = get_account_transactions(account_ids)\n",
    "balances = get_account_balances(account_ids)\n",
    "# static\n",
    "account_metadata = get_account_metadata(account_ids)\n",
    "account_details = get_account_details(account_ids)"
   ]
  },
  {
   "cell_type": "code",
   "execution_count": null,
   "metadata": {},
   "outputs": [],
   "source": [
    "_data = utils.read_json(api_output_filepath)\n",
    "_data.get(\"data\")[1][0]"
   ]
  },
  {
   "cell_type": "markdown",
   "metadata": {},
   "source": [
    "# Parse\n"
   ]
  },
  {
   "cell_type": "code",
   "execution_count": null,
   "metadata": {},
   "outputs": [],
   "source": [
    "user_data = data_import.load_user_data()"
   ]
  },
  {
   "cell_type": "code",
   "execution_count": null,
   "metadata": {},
   "outputs": [],
   "source": [
    "user_data.requisition.id"
   ]
  },
  {
   "cell_type": "code",
   "execution_count": null,
   "metadata": {},
   "outputs": [],
   "source": []
  },
  {
   "cell_type": "markdown",
   "metadata": {},
   "source": [
    "# Enrich\n"
   ]
  },
  {
   "cell_type": "code",
   "execution_count": null,
   "metadata": {},
   "outputs": [],
   "source": [
    "user_data.transactions = process_transactions.process_transactions(\n",
    "    user_data.transactions\n",
    ")"
   ]
  },
  {
   "cell_type": "markdown",
   "metadata": {},
   "source": [
    "# Query\n"
   ]
  },
  {
   "cell_type": "code",
   "execution_count": null,
   "metadata": {},
   "outputs": [],
   "source": [
    "import pandas as pd"
   ]
  },
  {
   "cell_type": "code",
   "execution_count": null,
   "metadata": {},
   "outputs": [],
   "source": [
    "records = user_data.query_transactions_by_transaction_code(\n",
    "    \"FASTER PAYMENT DEBIT REVERSAL\"\n",
    ")"
   ]
  },
  {
   "cell_type": "code",
   "execution_count": null,
   "metadata": {},
   "outputs": [],
   "source": []
  },
  {
   "cell_type": "code",
   "execution_count": null,
   "metadata": {},
   "outputs": [],
   "source": []
  }
 ],
 "metadata": {
  "kernelspec": {
   "display_name": "py310",
   "language": "python",
   "name": "python3"
  },
  "language_info": {
   "codemirror_mode": {
    "name": "ipython",
    "version": 3
   },
   "file_extension": ".py",
   "mimetype": "text/x-python",
   "name": "python",
   "nbconvert_exporter": "python",
   "pygments_lexer": "ipython3",
   "version": "3.10.10"
  }
 },
 "nbformat": 4,
 "nbformat_minor": 2
}
