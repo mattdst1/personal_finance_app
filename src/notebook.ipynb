{
 "cells": [
  {
   "cell_type": "markdown",
   "metadata": {},
   "source": [
    "# Install\n"
   ]
  },
  {
   "cell_type": "code",
   "execution_count": 1,
   "metadata": {},
   "outputs": [],
   "source": [
    "%load_ext autoreload\n",
    "%autoreload 2"
   ]
  },
  {
   "cell_type": "code",
   "execution_count": 2,
   "metadata": {},
   "outputs": [
    {
     "data": {
      "text/plain": [
       "True"
      ]
     },
     "execution_count": 2,
     "metadata": {},
     "output_type": "execute_result"
    }
   ],
   "source": [
    "import sys\n",
    "import os\n",
    "\n",
    "import pandas as pd\n",
    "from dotenv import load_dotenv\n",
    "\n",
    "import utils\n",
    "import mock_data\n",
    "import model\n",
    "\n",
    "load_dotenv(\"../user.env\")"
   ]
  },
  {
   "cell_type": "markdown",
   "metadata": {},
   "source": [
    "# Process data from API (mocked)\n"
   ]
  },
  {
   "cell_type": "code",
   "execution_count": 3,
   "metadata": {},
   "outputs": [],
   "source": [
    "def extract_transactions_and_balance_from_response(account_id: str, transactions_raw):\n",
    "    def combine_pending_and_booked_transactions(transactions: list[dict]):\n",
    "        booked_df = pd.json_normalize(transactions.get(\"booked\"))\n",
    "        if booked_df is not None:\n",
    "            booked_df[\"status\"] = \"booked\"\n",
    "        pending_df = pd.json_normalize(transactions.get(\"pending\"))\n",
    "        if pending_df is not None:\n",
    "            pending_df[\"status\"] = \"pending\"\n",
    "\n",
    "        df = pd.concat([booked_df, pending_df])\n",
    "        transactions = df.to_dict(orient=\"records\")\n",
    "        return transactions\n",
    "\n",
    "    def find_account_transactions():\n",
    "        # loop through looking for account id\n",
    "        result = None\n",
    "        finished = False\n",
    "\n",
    "        for acc in transactions_raw:\n",
    "            acc_id = acc[0]\n",
    "            if acc_id == account_id:\n",
    "                result = acc\n",
    "        finished = True\n",
    "\n",
    "        if finished and result is None:\n",
    "            Exception(f\"could not find account_id {account_id} in account details data\")\n",
    "\n",
    "        return result\n",
    "\n",
    "    def extract_transactions(result):\n",
    "        acc_transactions = result[1][0].get(\"transactions\")\n",
    "        return acc_transactions\n",
    "\n",
    "    def extract_balances(result):\n",
    "        acc_balances = result[1][1].get(\"balances\")\n",
    "        return acc_balances\n",
    "\n",
    "    def add_account_id_to_transactions(transactions: list[dict], account_id: str):\n",
    "        result = []\n",
    "\n",
    "        for transaction in transactions:\n",
    "            updated_dict = transaction\n",
    "            updated_dict[\"account_id\"] = account_id\n",
    "            result.append(updated_dict)\n",
    "\n",
    "        return result\n",
    "\n",
    "    # parse\n",
    "    result = find_account_transactions()\n",
    "    acc_transactions = extract_transactions(result)\n",
    "    acc_balances = extract_balances(result)\n",
    "\n",
    "    # post process\n",
    "    acc_transactions = combine_pending_and_booked_transactions(acc_transactions)\n",
    "    acc_transactions = add_account_id_to_transactions(\n",
    "        transactions=acc_transactions, account_id=account_id\n",
    "    )\n",
    "\n",
    "    return acc_transactions, acc_balances\n",
    "\n",
    "\n",
    "def populate_user_accounts_data(\n",
    "    requisition: model.Requisition,\n",
    "    transactions,\n",
    "    account_details: model.UserAccountDetails,\n",
    "):\n",
    "    # Populate accounts\n",
    "    accounts = [\n",
    "        parse_account_dict(acc, id=requisition.accounts[idx])\n",
    "        for idx, acc in enumerate(account_details)\n",
    "    ]\n",
    "\n",
    "    for account_id in requisition.accounts:\n",
    "        # acc_position = requisition.get(\"accounts\").index(account_id)\n",
    "        acc_position = requisition.accounts.index(account_id)\n",
    "        account_name = accounts[acc_position].get(\"account_name\")\n",
    "        print(\n",
    "            f\"account_position={acc_position}, account_name={account_name}, account_id={account_id}\"\n",
    "        )\n",
    "\n",
    "        transactions, balances = extract_transactions_and_balance_from_response(\n",
    "            account_id, transactions_raw=transactions_raw\n",
    "        )\n",
    "\n",
    "        accounts[acc_position][\"transactions\"] = transactions\n",
    "        accounts[acc_position][\"balances\"] = balances\n",
    "\n",
    "    return accounts"
   ]
  },
  {
   "cell_type": "code",
   "execution_count": 5,
   "metadata": {},
   "outputs": [],
   "source": [
    "user_data, transactions, account_mapping = mock_data.get_mocked_data()"
   ]
  },
  {
   "cell_type": "code",
   "execution_count": 6,
   "metadata": {},
   "outputs": [],
   "source": [
    "requisition = user_data.requisition\n",
    "account_details = user_data.account_details"
   ]
  },
  {
   "cell_type": "code",
   "execution_count": 7,
   "metadata": {},
   "outputs": [
    {
     "data": {
      "text/plain": [
       "UserAccountDetails(credit_cards=[CreditCardDetails(resource_id='c4e9a964-b676-43c1-81f9-5479f8894604', currency='GBP', masked_pan='**4572', details='STAFF ALL IN ONE CREDIT CARD')], current_accounts=[CurrentAccountDetails(resource_id='cbc85e1c-cdbc-4e3a-9918-03b74d79e719', bban='09012921263671', currency='GBP', name='joint account', cash_account_type='CACC'), CurrentAccountDetails(resource_id='a2b51663-5cf3-43d6-866e-65e5c63542bc', bban='09012916688559', currency='GBP', name='single account', cash_account_type='CACC')])"
      ]
     },
     "execution_count": 7,
     "metadata": {},
     "output_type": "execute_result"
    }
   ],
   "source": [
    "user_data.account_details"
   ]
  },
  {
   "cell_type": "code",
   "execution_count": null,
   "metadata": {},
   "outputs": [],
   "source": [
    "account_details.credit_cards"
   ]
  },
  {
   "cell_type": "code",
   "execution_count": null,
   "metadata": {},
   "outputs": [],
   "source": [
    "requisition.accounts"
   ]
  },
  {
   "cell_type": "code",
   "execution_count": null,
   "metadata": {},
   "outputs": [],
   "source": []
  },
  {
   "cell_type": "code",
   "execution_count": null,
   "metadata": {},
   "outputs": [],
   "source": [
    "for account_id in requisition.accounts:\n",
    "    # acc_position = requisition.get(\"accounts\").index(account_id)\n",
    "    acc_position = requisition.accounts.index(account_id)\n",
    "    account_name = accounts[acc_position].get(\"account_name\")\n",
    "    print(\n",
    "        f\"account_position={acc_position}, account_name={account_name}, account_id={account_id}\"\n",
    "    )\n",
    "\n",
    "    transactions, balances = extract_transactions_and_balance_from_response(\n",
    "        account_id, transactions_raw=transactions_raw\n",
    "    )\n",
    "\n",
    "    accounts[acc_position][\"transactions\"] = transactions\n",
    "    accounts[acc_position][\"balances\"] = balances"
   ]
  },
  {
   "cell_type": "code",
   "execution_count": null,
   "metadata": {},
   "outputs": [],
   "source": []
  },
  {
   "cell_type": "code",
   "execution_count": null,
   "metadata": {},
   "outputs": [],
   "source": []
  },
  {
   "cell_type": "code",
   "execution_count": null,
   "metadata": {},
   "outputs": [],
   "source": []
  },
  {
   "cell_type": "code",
   "execution_count": null,
   "metadata": {},
   "outputs": [],
   "source": [
    "user_accounts_data = populate_user_accounts_data(\n",
    "    requisition=user_data.requisition,\n",
    "    transactions=transactions,\n",
    "    account_details=user_data.account_details,\n",
    ")"
   ]
  },
  {
   "cell_type": "code",
   "execution_count": null,
   "metadata": {},
   "outputs": [],
   "source": [
    "type(user_accounts_data)"
   ]
  },
  {
   "cell_type": "markdown",
   "metadata": {},
   "source": [
    "# Parsed data to domain model\n",
    "\n",
    "accounts\n"
   ]
  },
  {
   "cell_type": "code",
   "execution_count": null,
   "metadata": {},
   "outputs": [],
   "source": [
    "def get_account_data(account_data):\n",
    "    result_dict = {}\n",
    "    balances: list[dict] = account_data.get(\"balances\")\n",
    "    data_list = utils.flatten_and_remove_duplicates_from_dictionary(balances)\n",
    "    for entry in data_list:\n",
    "        balance_type = entry.get(\"balanceType\")\n",
    "        amount = entry.get(\"amount\")\n",
    "\n",
    "        if balance_type and amount:\n",
    "            key = f\"{balance_type}Balance\"\n",
    "            result_dict[key] = amount\n",
    "\n",
    "    result_dict[\"currency\"] = data_list[0][\"currency\"]\n",
    "    result_dict[\"referenceDate\"] = data_list[0][\"referenceDate\"]\n",
    "    result_dict = utils.clean_column_names(result_dict)\n",
    "\n",
    "    acc_detail = {\n",
    "        \"account_id\": account_data.get(\"account_id\"),\n",
    "        \"account_name\": account_data.get(\"account_name\"),\n",
    "        \"account_type\": account_data.get(\"account_type\"),\n",
    "        \"currency\": account_data.get(\"currency\"),\n",
    "    }\n",
    "    acc_detail.update(result_dict)\n",
    "\n",
    "    return acc_detail\n",
    "\n",
    "\n",
    "# clean\n",
    "def transactions_dict_to_model(account_data: dict, account_id: str):\n",
    "    transactions = utils.clean_column_names(account_data.get(\"transactions\"))\n",
    "    transactions = [model.Transaction.from_dict(d) for d in transactions]\n",
    "    filtered_transactions = [t for t in transactions if t.account_id == account_id]\n",
    "    return transactions"
   ]
  },
  {
   "cell_type": "code",
   "execution_count": null,
   "metadata": {},
   "outputs": [],
   "source": [
    "def get_user_selection(selected_account: int = 0):\n",
    "    account_ids = [d.get(\"account_id\") for d in user_accounts_data]\n",
    "    if selected_account >= len(account_ids):\n",
    "        raise ValueError(\"invalid entry\")\n",
    "    account_id = account_ids[selected_account]\n",
    "    account_position = account_ids.index(account_id)\n",
    "    return account_position\n",
    "\n",
    "\n",
    "account_position = get_user_selection()"
   ]
  },
  {
   "cell_type": "code",
   "execution_count": null,
   "metadata": {},
   "outputs": [],
   "source": [
    "# user selects account\n",
    "user_accounts = []\n",
    "for i in range(0, len(user_accounts_data)):\n",
    "    try:\n",
    "        account_data = user_accounts_data[i]\n",
    "        account_type = account_data.get(\"account_type\")\n",
    "        # initialise account\n",
    "        if account_type == \"CACC\":\n",
    "            account = model.BankAccount.from_dict(get_account_data(account_data))\n",
    "        elif account_type == \"CARD\":\n",
    "            account = model.CreditCard.from_dict(get_account_data(account_data))\n",
    "\n",
    "        # initialise transactions\n",
    "        transactions = transactions_dict_to_model(account_data, account.account_id)\n",
    "        account.add_transactions(transactions=transactions)\n",
    "        user_accounts.append(account)\n",
    "    except Exception as e:\n",
    "        print(f\"failed to process account {i}\")\n",
    "        raise e"
   ]
  },
  {
   "cell_type": "code",
   "execution_count": null,
   "metadata": {},
   "outputs": [],
   "source": [
    "user_accounts"
   ]
  },
  {
   "cell_type": "code",
   "execution_count": null,
   "metadata": {},
   "outputs": [],
   "source": [
    "user = model.User(user_name=\"Matthew\")"
   ]
  },
  {
   "cell_type": "code",
   "execution_count": null,
   "metadata": {},
   "outputs": [],
   "source": [
    "user = model.User(user_name=\"Matthew\")\n",
    "_ = [user.add_account(account) for account in user_accounts]"
   ]
  },
  {
   "cell_type": "code",
   "execution_count": null,
   "metadata": {},
   "outputs": [],
   "source": [
    "transactions = user.get_transactions()\n",
    "transactions_by_amount = user.get_transactions_by_amount(100, 200)\n",
    "transactions_by_amount = user.get_transactions_by_amount(400, 500)"
   ]
  },
  {
   "cell_type": "code",
   "execution_count": null,
   "metadata": {},
   "outputs": [],
   "source": [
    "from collections import OrderedDict\n",
    "\n",
    "\n",
    "def find_common_transactions():\n",
    "    ...\n",
    "\n",
    "\n",
    "def find_common_dicts(*lists):\n",
    "    def dict_to_ordered_tuple(d):\n",
    "        return tuple(OrderedDict(sorted(d.items())).items())\n",
    "\n",
    "    sets = [set(dict_to_ordered_tuple(d) for d in lst) for lst in lists]\n",
    "\n",
    "    common_set = set.intersection(*sets)\n",
    "\n",
    "    result = [dict(t) for t in common_set]\n",
    "    return result"
   ]
  },
  {
   "cell_type": "code",
   "execution_count": null,
   "metadata": {},
   "outputs": [],
   "source": [
    "queries = [user.get_transactions(), user.get_transactions_by_amount(-100, -10)]\n",
    "dicts = [[d.to_dict() for d in query] for query in queries]\n",
    "common_dicts = find_common_dicts(*dicts)"
   ]
  },
  {
   "cell_type": "code",
   "execution_count": null,
   "metadata": {},
   "outputs": [],
   "source": [
    "query_response = [model.Transaction(**t) for t in common_dicts]"
   ]
  },
  {
   "cell_type": "code",
   "execution_count": null,
   "metadata": {},
   "outputs": [],
   "source": [
    "def transactions_to_dataframe(transactions: list[model.Transaction]):\n",
    "    return pd.DataFrame(query_response).dropna(axis=1)"
   ]
  },
  {
   "cell_type": "code",
   "execution_count": null,
   "metadata": {},
   "outputs": [],
   "source": [
    "transactions_to_dataframe(query_response)"
   ]
  }
 ],
 "metadata": {
  "kernelspec": {
   "display_name": "py310",
   "language": "python",
   "name": "python3"
  },
  "language_info": {
   "codemirror_mode": {
    "name": "ipython",
    "version": 3
   },
   "file_extension": ".py",
   "mimetype": "text/x-python",
   "name": "python",
   "nbconvert_exporter": "python",
   "pygments_lexer": "ipython3",
   "version": "3.10.10"
  }
 },
 "nbformat": 4,
 "nbformat_minor": 2
}
